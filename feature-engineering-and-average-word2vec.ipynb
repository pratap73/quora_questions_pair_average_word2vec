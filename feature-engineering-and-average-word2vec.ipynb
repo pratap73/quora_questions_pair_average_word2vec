{
 "cells": [
  {
   "cell_type": "code",
   "execution_count": null,
   "metadata": {
    "execution": {
     "iopub.execute_input": "2022-05-12T06:34:58.536456Z",
     "iopub.status.busy": "2022-05-12T06:34:58.535843Z",
     "iopub.status.idle": "2022-05-12T06:35:12.145153Z",
     "shell.execute_reply": "2022-05-12T06:35:12.144207Z",
     "shell.execute_reply.started": "2022-05-12T06:34:58.536414Z"
    }
   },
   "outputs": [],
   "source": [
    "import numpy as np\n",
    "import pandas as pd\n",
    "from time import time\n",
    "import matplotlib.pyplot as plt\n",
    "import seaborn as sns\n",
    "from sklearn.feature_extraction.text import CountVectorizer, TfidfVectorizer\n",
    "from bs4 import BeautifulSoup\n",
    "import shutil\n",
    "import gensim\n",
    "import re\n",
    "import spacy\n",
    "from gensim.models import Word2Vec"
   ]
  },
  {
   "cell_type": "code",
   "execution_count": null,
   "metadata": {
    "execution": {
     "iopub.execute_input": "2022-05-12T06:35:20.010016Z",
     "iopub.status.busy": "2022-05-12T06:35:20.009681Z",
     "iopub.status.idle": "2022-05-12T06:35:21.321222Z",
     "shell.execute_reply": "2022-05-12T06:35:21.320218Z",
     "shell.execute_reply.started": "2022-05-12T06:35:20.009972Z"
    }
   },
   "outputs": [],
   "source": [
    "df = pd.read_csv(\"questions.csv\")"
   ]
  },
  {
   "cell_type": "code",
   "execution_count": null,
   "metadata": {
    "execution": {
     "iopub.execute_input": "2022-05-12T06:35:21.324176Z",
     "iopub.status.busy": "2022-05-12T06:35:21.323864Z",
     "iopub.status.idle": "2022-05-12T06:35:21.333751Z",
     "shell.execute_reply": "2022-05-12T06:35:21.332693Z",
     "shell.execute_reply.started": "2022-05-12T06:35:21.324133Z"
    }
   },
   "outputs": [],
   "source": [
    "df.shape"
   ]
  },
  {
   "cell_type": "code",
   "execution_count": null,
   "metadata": {
    "execution": {
     "iopub.execute_input": "2022-05-12T06:35:21.336549Z",
     "iopub.status.busy": "2022-05-12T06:35:21.335438Z",
     "iopub.status.idle": "2022-05-12T06:35:21.357374Z",
     "shell.execute_reply": "2022-05-12T06:35:21.356597Z",
     "shell.execute_reply.started": "2022-05-12T06:35:21.3365Z"
    }
   },
   "outputs": [],
   "source": [
    "df.head()"
   ]
  },
  {
   "cell_type": "code",
   "execution_count": null,
   "metadata": {
    "execution": {
     "iopub.execute_input": "2022-05-12T06:35:21.360619Z",
     "iopub.status.busy": "2022-05-12T06:35:21.360336Z",
     "iopub.status.idle": "2022-05-12T06:35:21.39719Z",
     "shell.execute_reply": "2022-05-12T06:35:21.39607Z",
     "shell.execute_reply.started": "2022-05-12T06:35:21.360587Z"
    }
   },
   "outputs": [],
   "source": [
    "new_df = df.sample(30000, random_state=2)"
   ]
  },
  {
   "cell_type": "code",
   "execution_count": null,
   "metadata": {
    "execution": {
     "iopub.execute_input": "2022-05-12T06:35:21.39933Z",
     "iopub.status.busy": "2022-05-12T06:35:21.398515Z",
     "iopub.status.idle": "2022-05-12T06:35:21.417515Z",
     "shell.execute_reply": "2022-05-12T06:35:21.416767Z",
     "shell.execute_reply.started": "2022-05-12T06:35:21.399283Z"
    }
   },
   "outputs": [],
   "source": [
    "new_df.sample(10)"
   ]
  },
  {
   "cell_type": "code",
   "execution_count": null,
   "metadata": {
    "execution": {
     "iopub.execute_input": "2022-05-12T06:35:21.41924Z",
     "iopub.status.busy": "2022-05-12T06:35:21.418867Z",
     "iopub.status.idle": "2022-05-12T06:35:21.441556Z",
     "shell.execute_reply": "2022-05-12T06:35:21.440707Z",
     "shell.execute_reply.started": "2022-05-12T06:35:21.419197Z"
    }
   },
   "outputs": [],
   "source": [
    "new_df.isnull().sum()"
   ]
  },
  {
   "cell_type": "code",
   "execution_count": null,
   "metadata": {
    "execution": {
     "iopub.execute_input": "2022-05-12T06:35:21.443308Z",
     "iopub.status.busy": "2022-05-12T06:35:21.443021Z",
     "iopub.status.idle": "2022-05-12T06:35:21.447771Z",
     "shell.execute_reply": "2022-05-12T06:35:21.446562Z",
     "shell.execute_reply.started": "2022-05-12T06:35:21.443278Z"
    }
   },
   "outputs": [],
   "source": [
    "# ques_df = new_df[['question1','question2']]\n",
    "# ques_df.head()"
   ]
  },
  {
   "cell_type": "code",
   "execution_count": null,
   "metadata": {
    "execution": {
     "iopub.execute_input": "2022-05-12T06:35:21.453854Z",
     "iopub.status.busy": "2022-05-12T06:35:21.453217Z",
     "iopub.status.idle": "2022-05-12T06:35:21.74102Z",
     "shell.execute_reply": "2022-05-12T06:35:21.74Z",
     "shell.execute_reply.started": "2022-05-12T06:35:21.453809Z"
    }
   },
   "outputs": [],
   "source": [
    "df = df.dropna().reset_index(drop=True)\n",
    "df.isnull().sum()"
   ]
  },
  {
   "cell_type": "code",
   "execution_count": null,
   "metadata": {
    "execution": {
     "iopub.execute_input": "2022-05-12T06:35:21.743197Z",
     "iopub.status.busy": "2022-05-12T06:35:21.742886Z",
     "iopub.status.idle": "2022-05-12T06:35:22.858647Z",
     "shell.execute_reply": "2022-05-12T06:35:22.857773Z",
     "shell.execute_reply.started": "2022-05-12T06:35:21.743155Z"
    }
   },
   "outputs": [],
   "source": [
    "nlp = spacy.load('en_core_web_sm')"
   ]
  },
  {
   "cell_type": "code",
   "execution_count": null,
   "metadata": {
    "execution": {
     "iopub.execute_input": "2022-05-12T06:35:22.861041Z",
     "iopub.status.busy": "2022-05-12T06:35:22.860697Z",
     "iopub.status.idle": "2022-05-12T06:35:22.888877Z",
     "shell.execute_reply": "2022-05-12T06:35:22.887794Z",
     "shell.execute_reply.started": "2022-05-12T06:35:22.860998Z"
    }
   },
   "outputs": [],
   "source": [
    "def preprocess(q):\n",
    "    \n",
    "    q = str(q).lower().strip()\n",
    "    \n",
    "    # Replace special characters with their string equivalents.\n",
    "    q = q.replace('%', ' percent')\n",
    "    q = q.replace('$', ' dollar ')\n",
    "    q = q.replace('₹', ' rupee ')\n",
    "    q = q.replace('€', ' euro ')\n",
    "    q = q.replace('@', ' at ')\n",
    "    \n",
    "    # The pattern '[math]' appears around 900 times in the whole dataset.\n",
    "    q = q.replace('[math]', '')\n",
    "    \n",
    "    # Replacing some numbers with string equivalents (not perfect, can be done better to account for more cases)\n",
    "    q = q.replace(',000,000,000 ', 'b ')\n",
    "    q = q.replace(',000,000 ', 'm ')\n",
    "    q = q.replace(',000 ', 'k ')\n",
    "    q = re.sub(r'([0-9]+)000000000', r'\\1b', q)\n",
    "    q = re.sub(r'([0-9]+)000000', r'\\1m', q)\n",
    "    q = re.sub(r'([0-9]+)000', r'\\1k', q)\n",
    "    \n",
    "    # Decontracting words\n",
    "    # https://en.wikipedia.org/wiki/Wikipedia%3aList_of_English_contractions\n",
    "    # https://stackoverflow.com/a/19794953\n",
    "    contractions = { \n",
    "    \"ain't\": \"am not\",\n",
    "    \"aren't\": \"are not\",\n",
    "    \"can't\": \"can not\",\n",
    "    \"can't've\": \"can not have\",\n",
    "    \"'cause\": \"because\",\n",
    "    \"could've\": \"could have\",\n",
    "    \"couldn't\": \"could not\",\n",
    "    \"couldn't've\": \"could not have\",\n",
    "    \"didn't\": \"did not\",\n",
    "    \"doesn't\": \"does not\",\n",
    "    \"don't\": \"do not\",\n",
    "    \"hadn't\": \"had not\",\n",
    "    \"hadn't've\": \"had not have\",\n",
    "    \"hasn't\": \"has not\",\n",
    "    \"haven't\": \"have not\",\n",
    "    \"he'd\": \"he would\",\n",
    "    \"he'd've\": \"he would have\",\n",
    "    \"he'll\": \"he will\",\n",
    "    \"he'll've\": \"he will have\",\n",
    "    \"he's\": \"he is\",\n",
    "    \"how'd\": \"how did\",\n",
    "    \"how'd'y\": \"how do you\",\n",
    "    \"how'll\": \"how will\",\n",
    "    \"how's\": \"how is\",\n",
    "    \"i'd\": \"i would\",\n",
    "    \"i'd've\": \"i would have\",\n",
    "    \"i'll\": \"i will\",\n",
    "    \"i'll've\": \"i will have\",\n",
    "    \"i'm\": \"i am\",\n",
    "    \"i've\": \"i have\",\n",
    "    \"isn't\": \"is not\",\n",
    "    \"it'd\": \"it would\",\n",
    "    \"it'd've\": \"it would have\",\n",
    "    \"it'll\": \"it will\",\n",
    "    \"it'll've\": \"it will have\",\n",
    "    \"it's\": \"it is\",\n",
    "    \"let's\": \"let us\",\n",
    "    \"ma'am\": \"madam\",\n",
    "    \"mayn't\": \"may not\",\n",
    "    \"might've\": \"might have\",\n",
    "    \"mightn't\": \"might not\",\n",
    "    \"mightn't've\": \"might not have\",\n",
    "    \"must've\": \"must have\",\n",
    "    \"mustn't\": \"must not\",\n",
    "    \"mustn't've\": \"must not have\",\n",
    "    \"needn't\": \"need not\",\n",
    "    \"needn't've\": \"need not have\",\n",
    "    \"o'clock\": \"of the clock\",\n",
    "    \"oughtn't\": \"ought not\",\n",
    "    \"oughtn't've\": \"ought not have\",\n",
    "    \"shan't\": \"shall not\",\n",
    "    \"sha'n't\": \"shall not\",\n",
    "    \"shan't've\": \"shall not have\",\n",
    "    \"she'd\": \"she would\",\n",
    "    \"she'd've\": \"she would have\",\n",
    "    \"she'll\": \"she will\",\n",
    "    \"she'll've\": \"she will have\",\n",
    "    \"she's\": \"she is\",\n",
    "    \"should've\": \"should have\",\n",
    "    \"shouldn't\": \"should not\",\n",
    "    \"shouldn't've\": \"should not have\",\n",
    "    \"so've\": \"so have\",\n",
    "    \"so's\": \"so as\",\n",
    "    \"that'd\": \"that would\",\n",
    "    \"that'd've\": \"that would have\",\n",
    "    \"that's\": \"that is\",\n",
    "    \"there'd\": \"there would\",\n",
    "    \"there'd've\": \"there would have\",\n",
    "    \"there's\": \"there is\",\n",
    "    \"they'd\": \"they would\",\n",
    "    \"they'd've\": \"they would have\",\n",
    "    \"they'll\": \"they will\",\n",
    "    \"they'll've\": \"they will have\",\n",
    "    \"they're\": \"they are\",\n",
    "    \"they've\": \"they have\",\n",
    "    \"to've\": \"to have\",\n",
    "    \"wasn't\": \"was not\",\n",
    "    \"we'd\": \"we would\",\n",
    "    \"we'd've\": \"we would have\",\n",
    "    \"we'll\": \"we will\",\n",
    "    \"we'll've\": \"we will have\",\n",
    "    \"we're\": \"we are\",\n",
    "    \"we've\": \"we have\",\n",
    "    \"weren't\": \"were not\",\n",
    "    \"what'll\": \"what will\",\n",
    "    \"what'll've\": \"what will have\",\n",
    "    \"what're\": \"what are\",\n",
    "    \"what's\": \"what is\",\n",
    "    \"what've\": \"what have\",\n",
    "    \"when's\": \"when is\",\n",
    "    \"when've\": \"when have\",\n",
    "    \"where'd\": \"where did\",\n",
    "    \"where's\": \"where is\",\n",
    "    \"where've\": \"where have\",\n",
    "    \"who'll\": \"who will\",\n",
    "    \"who'll've\": \"who will have\",\n",
    "    \"who's\": \"who is\",\n",
    "    \"who've\": \"who have\",\n",
    "    \"why's\": \"why is\",\n",
    "    \"why've\": \"why have\",\n",
    "    \"will've\": \"will have\",\n",
    "    \"won't\": \"will not\",\n",
    "    \"won't've\": \"will not have\",\n",
    "    \"would've\": \"would have\",\n",
    "    \"wouldn't\": \"would not\",\n",
    "    \"wouldn't've\": \"would not have\",\n",
    "    \"y'all\": \"you all\",\n",
    "    \"y'all'd\": \"you all would\",\n",
    "    \"y'all'd've\": \"you all would have\",\n",
    "    \"y'all're\": \"you all are\",\n",
    "    \"y'all've\": \"you all have\",\n",
    "    \"you'd\": \"you would\",\n",
    "    \"you'd've\": \"you would have\",\n",
    "    \"you'll\": \"you will\",\n",
    "    \"you'll've\": \"you will have\",\n",
    "    \"you're\": \"you are\",\n",
    "    \"you've\": \"you have\"\n",
    "    }\n",
    "\n",
    "    q_decontracted = []\n",
    "\n",
    "    for word in q.split():\n",
    "        if word in contractions:\n",
    "            word = contractions[word]\n",
    "\n",
    "        q_decontracted.append(word)\n",
    "\n",
    "    q = ' '.join(q_decontracted)\n",
    "    q = q.replace(\"'ve\", \" have\")\n",
    "    q = q.replace(\"n't\", \" not\")\n",
    "    q = q.replace(\"'re\", \" are\")\n",
    "    q = q.replace(\"'ll\", \" will\")\n",
    "    \n",
    "    # Removing HTML tags\n",
    "    q = BeautifulSoup(q)\n",
    "    q = q.get_text()\n",
    "    \n",
    "    # Remove punctuations\n",
    "    pattern = re.compile('\\W')\n",
    "    q = re.sub(pattern, ' ', q).strip()\n",
    "\n",
    "    \n",
    "    return q"
   ]
  },
  {
   "cell_type": "code",
   "execution_count": null,
   "metadata": {
    "execution": {
     "iopub.execute_input": "2022-05-12T06:35:22.891254Z",
     "iopub.status.busy": "2022-05-12T06:35:22.890288Z",
     "iopub.status.idle": "2022-05-12T06:35:42.080189Z",
     "shell.execute_reply": "2022-05-12T06:35:42.079272Z",
     "shell.execute_reply.started": "2022-05-12T06:35:22.89121Z"
    }
   },
   "outputs": [],
   "source": [
    "new_df['question1'] = new_df['question1'].apply(preprocess)\n",
    "new_df['question2'] = new_df['question2'].apply(preprocess)"
   ]
  },
  {
   "cell_type": "code",
   "execution_count": null,
   "metadata": {
    "execution": {
     "iopub.execute_input": "2022-05-12T06:35:42.081792Z",
     "iopub.status.busy": "2022-05-12T06:35:42.081489Z",
     "iopub.status.idle": "2022-05-12T06:35:42.100153Z",
     "shell.execute_reply": "2022-05-12T06:35:42.099187Z",
     "shell.execute_reply.started": "2022-05-12T06:35:42.081751Z"
    }
   },
   "outputs": [],
   "source": [
    "new_df"
   ]
  },
  {
   "cell_type": "code",
   "execution_count": null,
   "metadata": {
    "execution": {
     "iopub.execute_input": "2022-05-12T06:35:42.10277Z",
     "iopub.status.busy": "2022-05-12T06:35:42.102126Z",
     "iopub.status.idle": "2022-05-12T06:35:49.029466Z",
     "shell.execute_reply": "2022-05-12T06:35:49.028054Z",
     "shell.execute_reply.started": "2022-05-12T06:35:42.102697Z"
    }
   },
   "outputs": [],
   "source": [
    "from nltk.stem import WordNetLemmatizer\n",
    "import nltk\n",
    "nltk.download('wordnet')\n",
    "lemmatizer = WordNetLemmatizer()\n",
    "def lemmatize_words(text):\n",
    "    return \" \".join([lemmatizer.lemmatize(word) for word in text.split()])\n",
    "\n",
    "new_df[\"ques1_lemi\"] = new_df[\"question1\"].apply(lambda text: lemmatize_words(text))\n",
    "new_df[\"ques2_lemi\"] = new_df[\"question2\"].apply(lambda text: lemmatize_words(text))\n"
   ]
  },
  {
   "cell_type": "code",
   "execution_count": null,
   "metadata": {
    "execution": {
     "iopub.execute_input": "2022-05-12T06:35:49.031348Z",
     "iopub.status.busy": "2022-05-12T06:35:49.031043Z",
     "iopub.status.idle": "2022-05-12T06:35:49.053099Z",
     "shell.execute_reply": "2022-05-12T06:35:49.051161Z",
     "shell.execute_reply.started": "2022-05-12T06:35:49.031308Z"
    }
   },
   "outputs": [],
   "source": [
    "new_df = new_df.drop(['question1','question2'], axis=1)"
   ]
  },
  {
   "cell_type": "code",
   "execution_count": null,
   "metadata": {
    "execution": {
     "iopub.execute_input": "2022-05-12T06:35:49.055121Z",
     "iopub.status.busy": "2022-05-12T06:35:49.054691Z",
     "iopub.status.idle": "2022-05-12T06:35:49.071946Z",
     "shell.execute_reply": "2022-05-12T06:35:49.071058Z",
     "shell.execute_reply.started": "2022-05-12T06:35:49.055071Z"
    }
   },
   "outputs": [],
   "source": [
    "new_df"
   ]
  },
  {
   "cell_type": "code",
   "execution_count": null,
   "metadata": {
    "execution": {
     "iopub.execute_input": "2022-05-12T06:35:49.074351Z",
     "iopub.status.busy": "2022-05-12T06:35:49.073828Z",
     "iopub.status.idle": "2022-05-12T06:35:51.07883Z",
     "shell.execute_reply": "2022-05-12T06:35:51.077952Z",
     "shell.execute_reply.started": "2022-05-12T06:35:49.074304Z"
    }
   },
   "outputs": [],
   "source": [
    "# merge texts\n",
    "from sklearn.feature_extraction.text import CountVectorizer\n",
    "# merge texts\n",
    "questions = list(new_df['ques1_lemi']) + list(new_df['ques2_lemi'])\n",
    "\n",
    "cv = CountVectorizer(max_features=3000)\n",
    "q1_arr, q2_arr = np.vsplit(cv.fit_transform(questions).toarray(),2)"
   ]
  },
  {
   "cell_type": "code",
   "execution_count": null,
   "metadata": {
    "execution": {
     "iopub.execute_input": "2022-05-12T06:35:51.080787Z",
     "iopub.status.busy": "2022-05-12T06:35:51.08038Z",
     "iopub.status.idle": "2022-05-12T06:35:54.371999Z",
     "shell.execute_reply": "2022-05-12T06:35:54.371141Z",
     "shell.execute_reply.started": "2022-05-12T06:35:51.080744Z"
    }
   },
   "outputs": [],
   "source": [
    "temp_df1 = pd.DataFrame(q1_arr, index= new_df.index)\n",
    "temp_df2 = pd.DataFrame(q2_arr, index= new_df.index)\n",
    "temp_df = pd.concat([temp_df1, temp_df2], axis=1)\n",
    "temp_df.shape"
   ]
  },
  {
   "cell_type": "code",
   "execution_count": null,
   "metadata": {
    "execution": {
     "iopub.execute_input": "2022-05-12T06:35:54.374037Z",
     "iopub.status.busy": "2022-05-12T06:35:54.373529Z",
     "iopub.status.idle": "2022-05-12T06:35:55.510131Z",
     "shell.execute_reply": "2022-05-12T06:35:55.509302Z",
     "shell.execute_reply.started": "2022-05-12T06:35:54.373991Z"
    }
   },
   "outputs": [],
   "source": [
    "temp_df.sample(10)"
   ]
  },
  {
   "cell_type": "code",
   "execution_count": null,
   "metadata": {
    "execution": {
     "iopub.execute_input": "2022-05-12T06:35:55.512312Z",
     "iopub.status.busy": "2022-05-12T06:35:55.511678Z",
     "iopub.status.idle": "2022-05-12T06:35:55.526857Z",
     "shell.execute_reply": "2022-05-12T06:35:55.526019Z",
     "shell.execute_reply.started": "2022-05-12T06:35:55.512267Z"
    }
   },
   "outputs": [],
   "source": [
    "temp_df['is_duplicate'] = new_df['is_duplicate']"
   ]
  },
  {
   "cell_type": "code",
   "execution_count": null,
   "metadata": {
    "execution": {
     "iopub.execute_input": "2022-05-12T06:35:55.530613Z",
     "iopub.status.busy": "2022-05-12T06:35:55.530352Z",
     "iopub.status.idle": "2022-05-12T06:35:58.767398Z",
     "shell.execute_reply": "2022-05-12T06:35:58.766027Z",
     "shell.execute_reply.started": "2022-05-12T06:35:55.530584Z"
    }
   },
   "outputs": [],
   "source": [
    "from sklearn.model_selection import train_test_split\n",
    "X_train,X_test,y_train,y_test = train_test_split(temp_df.iloc[:,0:-1].values,temp_df.iloc[:,-1].values,test_size=0.2,random_state=1)"
   ]
  },
  {
   "cell_type": "code",
   "execution_count": null,
   "metadata": {
    "execution": {
     "iopub.execute_input": "2022-05-12T06:35:58.769535Z",
     "iopub.status.busy": "2022-05-12T06:35:58.769217Z",
     "iopub.status.idle": "2022-05-12T06:35:58.776656Z",
     "shell.execute_reply": "2022-05-12T06:35:58.775691Z",
     "shell.execute_reply.started": "2022-05-12T06:35:58.769479Z"
    }
   },
   "outputs": [],
   "source": [
    "# from sklearn.ensemble import RandomForestClassifier\n",
    "# from sklearn.metrics import accuracy_score\n",
    "# rf = RandomForestClassifier()\n",
    "# rf.fit(X_train,y_train)\n",
    "# y_pred = rf.predict(X_test)\n",
    "# accuracy_score(y_test,y_pred)"
   ]
  },
  {
   "cell_type": "code",
   "execution_count": null,
   "metadata": {
    "execution": {
     "iopub.execute_input": "2022-05-12T06:35:58.779237Z",
     "iopub.status.busy": "2022-05-12T06:35:58.778489Z",
     "iopub.status.idle": "2022-05-12T06:35:58.788272Z",
     "shell.execute_reply": "2022-05-12T06:35:58.787131Z",
     "shell.execute_reply.started": "2022-05-12T06:35:58.779176Z"
    }
   },
   "outputs": [],
   "source": [
    "# from xgboost import XGBClassifier\n",
    "# xgb = XGBClassifier(n_jobs= -1, max_depth=10, learning_rate=0.1, subsample = 0.8, min_child_weight=3)\n",
    "# xgb.fit(X_train,y_train)\n",
    "# y_pred = xgb.predict(X_test)\n",
    "# accuracy_score(y_test,y_pred)"
   ]
  },
  {
   "cell_type": "markdown",
   "metadata": {},
   "source": [
    "### Approach 2. With Feature creation and Average Word2vec"
   ]
  },
  {
   "cell_type": "code",
   "execution_count": null,
   "metadata": {},
   "outputs": [],
   "source": [
    "def feature_extraction(q):\n",
    "    q = q.str.len()\n",
    "    \n",
    "    \n",
    "    "
   ]
  },
  {
   "cell_type": "code",
   "execution_count": null,
   "metadata": {
    "execution": {
     "iopub.execute_input": "2022-05-12T06:35:58.791066Z",
     "iopub.status.busy": "2022-05-12T06:35:58.790056Z",
     "iopub.status.idle": "2022-05-12T06:35:58.84963Z",
     "shell.execute_reply": "2022-05-12T06:35:58.848546Z",
     "shell.execute_reply.started": "2022-05-12T06:35:58.791017Z"
    }
   },
   "outputs": [],
   "source": [
    "new_df['q1_len'] = new_df['ques1_lemi'].str.len() \n",
    "new_df['q2_len'] = new_df['ques2_lemi'].str.len()"
   ]
  },
  {
   "cell_type": "code",
   "execution_count": null,
   "metadata": {
    "execution": {
     "iopub.execute_input": "2022-05-12T06:35:58.85214Z",
     "iopub.status.busy": "2022-05-12T06:35:58.851494Z",
     "iopub.status.idle": "2022-05-12T06:35:58.951573Z",
     "shell.execute_reply": "2022-05-12T06:35:58.950509Z",
     "shell.execute_reply.started": "2022-05-12T06:35:58.852092Z"
    }
   },
   "outputs": [],
   "source": [
    "new_df['q1_num_words'] = new_df['ques1_lemi'].apply(lambda row: len(row.split(\" \")))\n",
    "new_df['q2_num_words'] = new_df['ques2_lemi'].apply(lambda row: len(row.split(\" \")))\n",
    "new_df.sample(5)"
   ]
  },
  {
   "cell_type": "code",
   "execution_count": null,
   "metadata": {
    "execution": {
     "iopub.execute_input": "2022-05-12T06:35:58.953892Z",
     "iopub.status.busy": "2022-05-12T06:35:58.953557Z",
     "iopub.status.idle": "2022-05-12T06:35:58.960962Z",
     "shell.execute_reply": "2022-05-12T06:35:58.959967Z",
     "shell.execute_reply.started": "2022-05-12T06:35:58.953849Z"
    }
   },
   "outputs": [],
   "source": [
    "def common_words(row):\n",
    "    w1 = set(map(lambda word: word.lower().strip(), row['ques1_lemi'].split(\" \")))\n",
    "    w2 = set(map(lambda word: word.lower().strip(), row['ques2_lemi'].split(\" \")))    \n",
    "    return len(w1 & w2)"
   ]
  },
  {
   "cell_type": "code",
   "execution_count": null,
   "metadata": {
    "execution": {
     "iopub.execute_input": "2022-05-12T06:35:58.969357Z",
     "iopub.status.busy": "2022-05-12T06:35:58.969107Z",
     "iopub.status.idle": "2022-05-12T06:35:59.918409Z",
     "shell.execute_reply": "2022-05-12T06:35:59.917586Z",
     "shell.execute_reply.started": "2022-05-12T06:35:58.969328Z"
    }
   },
   "outputs": [],
   "source": [
    "new_df['word_common'] = new_df.apply(common_words, axis=1)\n",
    "new_df.head()"
   ]
  },
  {
   "cell_type": "code",
   "execution_count": null,
   "metadata": {
    "execution": {
     "iopub.execute_input": "2022-05-12T06:35:59.920804Z",
     "iopub.status.busy": "2022-05-12T06:35:59.920189Z",
     "iopub.status.idle": "2022-05-12T06:35:59.927838Z",
     "shell.execute_reply": "2022-05-12T06:35:59.92698Z",
     "shell.execute_reply.started": "2022-05-12T06:35:59.920756Z"
    }
   },
   "outputs": [],
   "source": [
    "def total_words(row):\n",
    "    w1 = set(map(lambda word: word.lower().strip(), row['ques1_lemi'].split(\" \")))\n",
    "    w2 = set(map(lambda word: word.lower().strip(), row['ques2_lemi'].split(\" \")))    \n",
    "    return (len(w1) + len(w2))"
   ]
  },
  {
   "cell_type": "code",
   "execution_count": null,
   "metadata": {
    "execution": {
     "iopub.execute_input": "2022-05-12T06:35:59.929759Z",
     "iopub.status.busy": "2022-05-12T06:35:59.929401Z",
     "iopub.status.idle": "2022-05-12T06:36:01.159887Z",
     "shell.execute_reply": "2022-05-12T06:36:01.159081Z",
     "shell.execute_reply.started": "2022-05-12T06:35:59.929699Z"
    }
   },
   "outputs": [],
   "source": [
    "new_df['word_total'] = new_df.apply(total_words, axis=1)\n",
    "new_df.head()"
   ]
  },
  {
   "cell_type": "code",
   "execution_count": null,
   "metadata": {
    "execution": {
     "iopub.execute_input": "2022-05-12T06:36:01.161859Z",
     "iopub.status.busy": "2022-05-12T06:36:01.161366Z",
     "iopub.status.idle": "2022-05-12T06:36:01.186361Z",
     "shell.execute_reply": "2022-05-12T06:36:01.185407Z",
     "shell.execute_reply.started": "2022-05-12T06:36:01.161815Z"
    }
   },
   "outputs": [],
   "source": [
    "new_df['word_share'] = round(new_df['word_common']/new_df['word_total'],2)\n",
    "new_df.head()"
   ]
  },
  {
   "cell_type": "code",
   "execution_count": null,
   "metadata": {
    "execution": {
     "iopub.execute_input": "2022-05-12T06:36:01.188352Z",
     "iopub.status.busy": "2022-05-12T06:36:01.18795Z",
     "iopub.status.idle": "2022-05-12T06:36:02.013484Z",
     "shell.execute_reply": "2022-05-12T06:36:02.012703Z",
     "shell.execute_reply.started": "2022-05-12T06:36:01.188305Z"
    }
   },
   "outputs": [],
   "source": [
    "# Analysis of features\n",
    "sns.displot(new_df['q1_len'])\n",
    "print('minimum characters',new_df['q1_len'].min())\n",
    "print('maximum characters',new_df['q1_len'].max())\n",
    "print('average num of characters',int(new_df['q1_len'].mean()))"
   ]
  },
  {
   "cell_type": "code",
   "execution_count": null,
   "metadata": {
    "execution": {
     "iopub.execute_input": "2022-05-12T06:36:02.015783Z",
     "iopub.status.busy": "2022-05-12T06:36:02.015226Z",
     "iopub.status.idle": "2022-05-12T06:36:02.76728Z",
     "shell.execute_reply": "2022-05-12T06:36:02.766552Z",
     "shell.execute_reply.started": "2022-05-12T06:36:02.01574Z"
    }
   },
   "outputs": [],
   "source": [
    "# common words\n",
    "sns.distplot(new_df[new_df['is_duplicate'] == 0]['word_common'],label='non duplicate')\n",
    "sns.distplot(new_df[new_df['is_duplicate'] == 1]['word_common'],label='duplicate')\n",
    "plt.legend()\n",
    "plt.show()"
   ]
  },
  {
   "cell_type": "code",
   "execution_count": null,
   "metadata": {
    "execution": {
     "iopub.execute_input": "2022-05-12T06:36:02.769439Z",
     "iopub.status.busy": "2022-05-12T06:36:02.768896Z",
     "iopub.status.idle": "2022-05-12T06:36:03.511536Z",
     "shell.execute_reply": "2022-05-12T06:36:03.510622Z",
     "shell.execute_reply.started": "2022-05-12T06:36:02.769378Z"
    }
   },
   "outputs": [],
   "source": [
    "# total words\n",
    "sns.distplot(new_df[new_df['is_duplicate'] == 0]['word_total'],label='non duplicate')\n",
    "sns.distplot(new_df[new_df['is_duplicate'] == 1]['word_total'],label='duplicate')\n",
    "plt.legend()\n",
    "plt.show()"
   ]
  },
  {
   "cell_type": "code",
   "execution_count": null,
   "metadata": {
    "execution": {
     "iopub.execute_input": "2022-05-12T06:36:03.513674Z",
     "iopub.status.busy": "2022-05-12T06:36:03.513368Z",
     "iopub.status.idle": "2022-05-12T06:36:04.129988Z",
     "shell.execute_reply": "2022-05-12T06:36:04.129125Z",
     "shell.execute_reply.started": "2022-05-12T06:36:03.513631Z"
    }
   },
   "outputs": [],
   "source": [
    "# word share\n",
    "sns.distplot(new_df[new_df['is_duplicate'] == 0]['word_share'],label='non duplicate')\n",
    "sns.distplot(new_df[new_df['is_duplicate'] == 1]['word_share'],label='duplicate')\n",
    "plt.legend()\n",
    "plt.show()"
   ]
  },
  {
   "cell_type": "code",
   "execution_count": null,
   "metadata": {
    "execution": {
     "iopub.execute_input": "2022-05-12T06:36:04.132277Z",
     "iopub.status.busy": "2022-05-12T06:36:04.131947Z",
     "iopub.status.idle": "2022-05-12T06:36:04.141272Z",
     "shell.execute_reply": "2022-05-12T06:36:04.140068Z",
     "shell.execute_reply.started": "2022-05-12T06:36:04.132223Z"
    }
   },
   "outputs": [],
   "source": [
    "df_new =new_df.copy()"
   ]
  },
  {
   "cell_type": "code",
   "execution_count": null,
   "metadata": {
    "execution": {
     "iopub.execute_input": "2022-05-12T06:36:04.143434Z",
     "iopub.status.busy": "2022-05-12T06:36:04.142867Z",
     "iopub.status.idle": "2022-05-12T06:36:04.1641Z",
     "shell.execute_reply": "2022-05-12T06:36:04.162888Z",
     "shell.execute_reply.started": "2022-05-12T06:36:04.143383Z"
    }
   },
   "outputs": [],
   "source": [
    "final_df = df_new.drop(columns=['id','qid1','qid2','ques1_lemi','ques2_lemi'])\n",
    "print(final_df.shape)\n",
    "final_df.head()"
   ]
  },
  {
   "cell_type": "code",
   "execution_count": null,
   "metadata": {
    "execution": {
     "iopub.execute_input": "2022-05-12T06:36:04.166853Z",
     "iopub.status.busy": "2022-05-12T06:36:04.166275Z",
     "iopub.status.idle": "2022-05-12T06:36:04.172323Z",
     "shell.execute_reply": "2022-05-12T06:36:04.170991Z",
     "shell.execute_reply.started": "2022-05-12T06:36:04.166804Z"
    }
   },
   "outputs": [],
   "source": [
    "# final_df = final_df.drop('is_duplicate', axis=1)"
   ]
  },
  {
   "cell_type": "code",
   "execution_count": null,
   "metadata": {
    "execution": {
     "iopub.execute_input": "2022-05-12T06:36:04.175047Z",
     "iopub.status.busy": "2022-05-12T06:36:04.174552Z",
     "iopub.status.idle": "2022-05-12T06:36:04.888143Z",
     "shell.execute_reply": "2022-05-12T06:36:04.886988Z",
     "shell.execute_reply.started": "2022-05-12T06:36:04.175001Z"
    }
   },
   "outputs": [],
   "source": [
    "final_df = pd.concat([final_df, temp_df], axis=1)"
   ]
  },
  {
   "cell_type": "code",
   "execution_count": null,
   "metadata": {
    "execution": {
     "iopub.execute_input": "2022-05-12T06:36:04.89012Z",
     "iopub.status.busy": "2022-05-12T06:36:04.889801Z",
     "iopub.status.idle": "2022-05-12T06:36:04.915086Z",
     "shell.execute_reply": "2022-05-12T06:36:04.914051Z",
     "shell.execute_reply.started": "2022-05-12T06:36:04.890065Z"
    }
   },
   "outputs": [],
   "source": [
    "final_df.head()"
   ]
  },
  {
   "cell_type": "code",
   "execution_count": null,
   "metadata": {
    "execution": {
     "iopub.execute_input": "2022-05-12T06:36:04.917162Z",
     "iopub.status.busy": "2022-05-12T06:36:04.916762Z",
     "iopub.status.idle": "2022-05-12T06:36:11.05648Z",
     "shell.execute_reply": "2022-05-12T06:36:11.055541Z",
     "shell.execute_reply.started": "2022-05-12T06:36:04.917118Z"
    }
   },
   "outputs": [],
   "source": [
    "from sklearn.model_selection import train_test_split\n",
    "X_train,X_test,y_train,y_test = train_test_split(final_df.iloc[:,1:].values,final_df.iloc[:,0].values,test_size=0.2,random_state=1)"
   ]
  },
  {
   "cell_type": "code",
   "execution_count": null,
   "metadata": {
    "execution": {
     "iopub.execute_input": "2022-05-12T06:36:11.058556Z",
     "iopub.status.busy": "2022-05-12T06:36:11.058169Z",
     "iopub.status.idle": "2022-05-12T06:37:03.046442Z",
     "shell.execute_reply": "2022-05-12T06:37:03.045572Z",
     "shell.execute_reply.started": "2022-05-12T06:36:11.058512Z"
    }
   },
   "outputs": [],
   "source": [
    "from sklearn.ensemble import RandomForestClassifier\n",
    "from sklearn.metrics import accuracy_score\n",
    "rf = RandomForestClassifier()\n",
    "rf.fit(X_train,y_train)\n",
    "y_pred = rf.predict(X_test)\n",
    "accuracy_score(y_test,y_pred)"
   ]
  },
  {
   "cell_type": "code",
   "execution_count": null,
   "metadata": {
    "execution": {
     "iopub.execute_input": "2022-05-12T06:37:03.048891Z",
     "iopub.status.busy": "2022-05-12T06:37:03.047958Z",
     "iopub.status.idle": "2022-05-12T06:37:03.071256Z",
     "shell.execute_reply": "2022-05-12T06:37:03.070368Z",
     "shell.execute_reply.started": "2022-05-12T06:37:03.048845Z"
    }
   },
   "outputs": [],
   "source": [
    "new_df"
   ]
  },
  {
   "cell_type": "code",
   "execution_count": null,
   "metadata": {
    "execution": {
     "iopub.execute_input": "2022-05-12T06:37:03.073417Z",
     "iopub.status.busy": "2022-05-12T06:37:03.072914Z",
     "iopub.status.idle": "2022-05-12T06:37:06.833522Z",
     "shell.execute_reply": "2022-05-12T06:37:06.832489Z",
     "shell.execute_reply.started": "2022-05-12T06:37:03.07337Z"
    }
   },
   "outputs": [],
   "source": [
    "def read_questions(row,column_name):\n",
    "    return gensim.utils.simple_preprocess(str(row[column_name]).encode('utf-8'))\n",
    "    \n",
    "documents = []\n",
    "for index, row in new_df.iterrows():\n",
    "    documents.append(read_questions(row,\"ques1_lemi\"))\n",
    "    if row[\"is_duplicate\"] == 0:\n",
    "        documents.append(read_questions(row,\"ques2_lemi\"))"
   ]
  },
  {
   "cell_type": "code",
   "execution_count": null,
   "metadata": {
    "execution": {
     "iopub.execute_input": "2022-05-12T06:37:06.841162Z",
     "iopub.status.busy": "2022-05-12T06:37:06.838664Z",
     "iopub.status.idle": "2022-05-12T06:37:06.853206Z",
     "shell.execute_reply": "2022-05-12T06:37:06.851903Z",
     "shell.execute_reply.started": "2022-05-12T06:37:06.841111Z"
    }
   },
   "outputs": [],
   "source": [
    "w2v_model = Word2Vec(min_count=10,\n",
    "                     window=3,\n",
    "                     vector_size=300,\n",
    "                     sample=6e-5, \n",
    "                     alpha=0.03, \n",
    "                     min_alpha=0.0007, \n",
    "                     negative=20,\n",
    "                     workers=4)"
   ]
  },
  {
   "cell_type": "code",
   "execution_count": null,
   "metadata": {
    "execution": {
     "iopub.execute_input": "2022-05-12T06:37:06.85525Z",
     "iopub.status.busy": "2022-05-12T06:37:06.854953Z",
     "iopub.status.idle": "2022-05-12T06:37:07.244786Z",
     "shell.execute_reply": "2022-05-12T06:37:07.243851Z",
     "shell.execute_reply.started": "2022-05-12T06:37:06.85521Z"
    }
   },
   "outputs": [],
   "source": [
    "w2v_model.build_vocab(documents, progress_per=10000)"
   ]
  },
  {
   "cell_type": "code",
   "execution_count": null,
   "metadata": {
    "execution": {
     "iopub.execute_input": "2022-05-12T06:37:07.246618Z",
     "iopub.status.busy": "2022-05-12T06:37:07.246336Z",
     "iopub.status.idle": "2022-05-12T06:37:44.8536Z",
     "shell.execute_reply": "2022-05-12T06:37:44.852525Z",
     "shell.execute_reply.started": "2022-05-12T06:37:07.246579Z"
    }
   },
   "outputs": [],
   "source": [
    "w2v_model.train(documents, total_examples=w2v_model.corpus_count, epochs=30, report_delay=1)"
   ]
  },
  {
   "cell_type": "code",
   "execution_count": null,
   "metadata": {
    "execution": {
     "iopub.execute_input": "2022-05-12T06:37:44.855704Z",
     "iopub.status.busy": "2022-05-12T06:37:44.855415Z",
     "iopub.status.idle": "2022-05-12T06:37:44.860951Z",
     "shell.execute_reply": "2022-05-12T06:37:44.859866Z",
     "shell.execute_reply.started": "2022-05-12T06:37:44.855665Z"
    }
   },
   "outputs": [],
   "source": [
    "words = list(w2v_model.wv.key_to_index)"
   ]
  },
  {
   "cell_type": "code",
   "execution_count": null,
   "metadata": {
    "execution": {
     "iopub.execute_input": "2022-05-12T06:37:44.863782Z",
     "iopub.status.busy": "2022-05-12T06:37:44.863131Z",
     "iopub.status.idle": "2022-05-12T06:37:44.883143Z",
     "shell.execute_reply": "2022-05-12T06:37:44.882303Z",
     "shell.execute_reply.started": "2022-05-12T06:37:44.863732Z"
    }
   },
   "outputs": [],
   "source": [
    "w2v_model.wv.most_similar(positive=[\"india\"])"
   ]
  },
  {
   "cell_type": "code",
   "execution_count": null,
   "metadata": {
    "execution": {
     "iopub.execute_input": "2022-05-12T06:37:44.885087Z",
     "iopub.status.busy": "2022-05-12T06:37:44.884773Z",
     "iopub.status.idle": "2022-05-12T06:37:45.087375Z",
     "shell.execute_reply": "2022-05-12T06:37:45.086502Z",
     "shell.execute_reply.started": "2022-05-12T06:37:44.885046Z"
    }
   },
   "outputs": [],
   "source": [
    "splitted = []\n",
    "for row in questions: \n",
    "    splitted.append([word for word in row.split()]) "
   ]
  },
  {
   "cell_type": "code",
   "execution_count": null,
   "metadata": {
    "execution": {
     "iopub.execute_input": "2022-05-12T06:37:45.089314Z",
     "iopub.status.busy": "2022-05-12T06:37:45.089029Z",
     "iopub.status.idle": "2022-05-12T06:37:49.398111Z",
     "shell.execute_reply": "2022-05-12T06:37:49.397092Z",
     "shell.execute_reply.started": "2022-05-12T06:37:45.089273Z"
    }
   },
   "outputs": [],
   "source": [
    "avg_data = []\n",
    "for row in splitted:\n",
    "    vec = np.zeros(300)\n",
    "    count = 0\n",
    "    for word in row:\n",
    "        try:\n",
    "            vec = vec+ w2v_model.wv[word]\n",
    "            count = count+ 1\n",
    "        except:\n",
    "            pass\n",
    "    avg_data.append(vec/count)"
   ]
  },
  {
   "cell_type": "code",
   "execution_count": null,
   "metadata": {
    "execution": {
     "iopub.execute_input": "2022-05-12T06:37:49.399696Z",
     "iopub.status.busy": "2022-05-12T06:37:49.399395Z",
     "iopub.status.idle": "2022-05-12T06:37:49.414593Z",
     "shell.execute_reply": "2022-05-12T06:37:49.413499Z",
     "shell.execute_reply.started": "2022-05-12T06:37:49.399657Z"
    }
   },
   "outputs": [],
   "source": [
    "avg_data[0]"
   ]
  },
  {
   "cell_type": "code",
   "execution_count": null,
   "metadata": {
    "execution": {
     "iopub.execute_input": "2022-05-12T06:37:49.418199Z",
     "iopub.status.busy": "2022-05-12T06:37:49.416904Z",
     "iopub.status.idle": "2022-05-12T06:37:49.425848Z",
     "shell.execute_reply": "2022-05-12T06:37:49.424477Z",
     "shell.execute_reply.started": "2022-05-12T06:37:49.418147Z"
    }
   },
   "outputs": [],
   "source": [
    "length = len(avg_data)\n",
    "half = int(length/2)\n",
    "first_half = avg_data[:half]\n",
    "second_half = avg_data[length-half:]"
   ]
  },
  {
   "cell_type": "code",
   "execution_count": null,
   "metadata": {
    "execution": {
     "iopub.execute_input": "2022-05-12T06:37:49.428597Z",
     "iopub.status.busy": "2022-05-12T06:37:49.428092Z",
     "iopub.status.idle": "2022-05-12T06:37:49.554519Z",
     "shell.execute_reply": "2022-05-12T06:37:49.553385Z",
     "shell.execute_reply.started": "2022-05-12T06:37:49.428551Z"
    }
   },
   "outputs": [],
   "source": [
    "q1_arry = np.array(first_half)\n",
    "q2_arry = np.array(second_half)"
   ]
  },
  {
   "cell_type": "code",
   "execution_count": null,
   "metadata": {
    "execution": {
     "iopub.execute_input": "2022-05-12T06:37:49.556745Z",
     "iopub.status.busy": "2022-05-12T06:37:49.556408Z",
     "iopub.status.idle": "2022-05-12T06:37:49.563566Z",
     "shell.execute_reply": "2022-05-12T06:37:49.562755Z",
     "shell.execute_reply.started": "2022-05-12T06:37:49.556683Z"
    }
   },
   "outputs": [],
   "source": [
    "q1_arry.shape, q2_arry.shape"
   ]
  },
  {
   "cell_type": "code",
   "execution_count": null,
   "metadata": {
    "execution": {
     "iopub.execute_input": "2022-05-12T06:37:49.566037Z",
     "iopub.status.busy": "2022-05-12T06:37:49.564873Z",
     "iopub.status.idle": "2022-05-12T06:37:49.692376Z",
     "shell.execute_reply": "2022-05-12T06:37:49.691518Z",
     "shell.execute_reply.started": "2022-05-12T06:37:49.565979Z"
    }
   },
   "outputs": [],
   "source": [
    "tem_df1 = pd.DataFrame(q1_arry, index= new_df.index)\n",
    "tem_df2 = pd.DataFrame(q2_arry, index= new_df.index)\n",
    "tem_df = pd.concat([tem_df1, tem_df2], axis=1)"
   ]
  },
  {
   "cell_type": "code",
   "execution_count": null,
   "metadata": {
    "execution": {
     "iopub.execute_input": "2022-05-12T06:37:49.695172Z",
     "iopub.status.busy": "2022-05-12T06:37:49.694679Z",
     "iopub.status.idle": "2022-05-12T06:37:50.533442Z",
     "shell.execute_reply": "2022-05-12T06:37:50.532453Z",
     "shell.execute_reply.started": "2022-05-12T06:37:49.695129Z"
    }
   },
   "outputs": [],
   "source": [
    "finl_df = pd.concat([tem_df, temp_df], axis=1)"
   ]
  },
  {
   "cell_type": "code",
   "execution_count": null,
   "metadata": {
    "execution": {
     "iopub.execute_input": "2022-05-12T06:37:50.536075Z",
     "iopub.status.busy": "2022-05-12T06:37:50.535209Z",
     "iopub.status.idle": "2022-05-12T06:37:50.61316Z",
     "shell.execute_reply": "2022-05-12T06:37:50.61201Z",
     "shell.execute_reply.started": "2022-05-12T06:37:50.535995Z"
    }
   },
   "outputs": [],
   "source": [
    "finl_df.head()"
   ]
  },
  {
   "cell_type": "code",
   "execution_count": null,
   "metadata": {
    "execution": {
     "iopub.execute_input": "2022-05-12T06:37:50.624268Z",
     "iopub.status.busy": "2022-05-12T06:37:50.621099Z",
     "iopub.status.idle": "2022-05-12T06:38:01.38996Z",
     "shell.execute_reply": "2022-05-12T06:38:01.38854Z",
     "shell.execute_reply.started": "2022-05-12T06:37:50.624219Z"
    }
   },
   "outputs": [],
   "source": [
    "from sklearn.model_selection import train_test_split\n",
    "Xtrain,Xtest,ytrain,ytest = train_test_split(finl_df.iloc[:,0:-1].values,finl_df.iloc[:,-1].values,test_size=0.2,random_state=1)"
   ]
  },
  {
   "cell_type": "code",
   "execution_count": null,
   "metadata": {
    "execution": {
     "iopub.execute_input": "2022-05-12T06:38:01.392617Z",
     "iopub.status.busy": "2022-05-12T06:38:01.392141Z",
     "iopub.status.idle": "2022-05-12T08:07:10.831248Z",
     "shell.execute_reply": "2022-05-12T08:07:10.830558Z",
     "shell.execute_reply.started": "2022-05-12T06:38:01.392572Z"
    }
   },
   "outputs": [],
   "source": [
    "from xgboost import XGBClassifier\n",
    "xgb = XGBClassifier(n_estimators=200,n_jobs=4, max_depth=30, learning_rate=0.1, subsample = 0.5)\n",
    "xgb.fit(Xtrain,ytrain)\n",
    "y_pred = xgb.predict(Xtest)\n",
    "accuracy_score(ytest,y_pred)"
   ]
  },
  {
   "cell_type": "code",
   "execution_count": null,
   "metadata": {},
   "outputs": [],
   "source": []
  },
  {
   "cell_type": "code",
   "execution_count": null,
   "metadata": {},
   "outputs": [],
   "source": []
  },
  {
   "cell_type": "markdown",
   "metadata": {},
   "source": []
  },
  {
   "cell_type": "code",
   "execution_count": null,
   "metadata": {},
   "outputs": [],
   "source": []
  },
  {
   "cell_type": "code",
   "execution_count": null,
   "metadata": {},
   "outputs": [],
   "source": []
  }
 ],
 "metadata": {
  "kernelspec": {
   "display_name": "Python 3",
   "language": "python",
   "name": "python3"
  },
  "language_info": {
   "codemirror_mode": {
    "name": "ipython",
    "version": 3
   },
   "file_extension": ".py",
   "mimetype": "text/x-python",
   "name": "python",
   "nbconvert_exporter": "python",
   "pygments_lexer": "ipython3",
   "version": "3.8.5"
  }
 },
 "nbformat": 4,
 "nbformat_minor": 4
}
